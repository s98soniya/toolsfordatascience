{
 "cells": [
  {
   "cell_type": "markdown",
   "id": "6026af19-1b83-4c21-95de-c12d97c0b553",
   "metadata": {},
   "source": [
    "<h1>My Jupyter Notebook on IBM Watson Studio</h1>"
   ]
  },
  {
   "cell_type": "markdown",
   "id": "17e4cb8c-ada0-4ddf-b1c6-f43734322c3e",
   "metadata": {},
   "source": [
    "<b> Soniya S</b>\n"
   ]
  },
  {
   "cell_type": "markdown",
   "id": "df71a17d-f11e-4926-995f-72355b6b8999",
   "metadata": {},
   "source": [
    "<i> I am interested in data science because in my field you can develop the right measures to tackle problem by means of correct use and interpretation of data"
   ]
  },
  {
   "cell_type": "markdown",
   "id": "7ff1c2c3-97b8-4108-9702-ba16e0379908",
   "metadata": {},
   "source": [
    "<h3>The Next cell will run the python program to swap two variables</h3>"
   ]
  },
  {
   "cell_type": "code",
   "execution_count": 7,
   "id": "8ec5895a-36ed-4f40-87af-e014cce908e3",
   "metadata": {},
   "outputs": [
    {
     "name": "stdin",
     "output_type": "stream",
     "text": [
      "Please enter value for P:  2\n",
      "Please enter value for Q:  3\n"
     ]
    },
    {
     "name": "stdout",
     "output_type": "stream",
     "text": [
      "The Value of P after swapping:  3\n",
      "The Value of Q after swapping:  2\n"
     ]
    }
   ],
   "source": [
    "P = int( input(\"Please enter value for P: \"))  \n",
    "Q = int( input(\"Please enter value for Q: \"))  \n",
    "   \n",
    "# To swap the value of two variables  \n",
    "# we will user third variable which is a temporary variable  \n",
    "temp_1 = P  \n",
    "P = Q  \n",
    "Q = temp_1  \n",
    "   \n",
    "print (\"The Value of P after swapping: \", P)  \n",
    "print (\"The Value of Q after swapping: \", Q)  "
   ]
  },
  {
   "cell_type": "code",
   "execution_count": null,
   "id": "16f38605-6f3d-4d43-9bb7-c9b56322ce72",
   "metadata": {},
   "outputs": [],
   "source": []
  },
  {
   "cell_type": "code",
   "execution_count": null,
   "id": "9ef8dda4-c453-4671-919c-d1437988387c",
   "metadata": {},
   "outputs": [],
   "source": []
  }
 ],
 "metadata": {
  "kernelspec": {
   "display_name": "Python",
   "language": "python",
   "name": "conda-env-python-py"
  },
  "language_info": {
   "codemirror_mode": {
    "name": "ipython",
    "version": 3
   },
   "file_extension": ".py",
   "mimetype": "text/x-python",
   "name": "python",
   "nbconvert_exporter": "python",
   "pygments_lexer": "ipython3",
   "version": "3.7.12"
  }
 },
 "nbformat": 4,
 "nbformat_minor": 5
}
